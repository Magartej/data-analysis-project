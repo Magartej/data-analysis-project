{
 "cells": [
  {
   "cell_type": "markdown",
   "id": "ad6f2d67",
   "metadata": {},
   "source": [
    "## A variable is a reserved memory area (memory address) to store value. \n",
    "\n",
    "* For example, we want to store an employee’s salary. In such a case, we can create a variable and store salary using it. Using that variable name, you can read or modify the salary amount.\n",
    "`\n",
    "\n",
    "# In this complete the task as per the instruction\n",
    "\n",
    "For example. \n"
   ]
  },
  {
   "cell_type": "code",
   "execution_count": 3,
   "id": "4e566806",
   "metadata": {},
   "outputs": [
    {
     "name": "stdout",
     "output_type": "stream",
     "text": [
      "100\n"
     ]
    }
   ],
   "source": [
    "# Define a variable named salary and assign a value to it\n",
    "\n",
    "saalary = 100\n",
    "print(saalary)\n"
   ]
  },
  {
   "cell_type": "code",
   "execution_count": 1,
   "id": "a471c487",
   "metadata": {},
   "outputs": [
    {
     "data": {
      "text/plain": [
       "0"
      ]
     },
     "execution_count": 1,
     "metadata": {},
     "output_type": "execute_result"
    }
   ],
   "source": [
    "# find the reminder of the number 40 divided by 10 [use modulus]\n",
    "40%10\n"
   ]
  },
  {
   "cell_type": "code",
   "execution_count": 5,
   "id": "233228b4",
   "metadata": {},
   "outputs": [
    {
     "name": "stdout",
     "output_type": "stream",
     "text": [
      "sum =  43\n"
     ]
    }
   ],
   "source": [
    "# Find the sum of 6, 8, 10,19 \n",
    "\n",
    "number = [6, 8, 10, 19]\n",
    "total = sum(number)\n",
    "print(\"sum = \",total)\n"
   ]
  },
  {
   "cell_type": "code",
   "execution_count": 6,
   "id": "b87f7ad9",
   "metadata": {},
   "outputs": [
    {
     "data": {
      "text/plain": [
       "10000000000000000000000000000000000000000"
      ]
     },
     "execution_count": 6,
     "metadata": {},
     "output_type": "execute_result"
    }
   ],
   "source": [
    "# Raise 10 to the power of 40\n",
    "10**40\n"
   ]
  },
  {
   "cell_type": "code",
   "execution_count": 9,
   "id": "e5b5e304",
   "metadata": {},
   "outputs": [],
   "source": [
    "# Define a variable called Currentyear and assign a value to it\n",
    "\n",
    "Currentyear = 2025"
   ]
  },
  {
   "cell_type": "code",
   "execution_count": 10,
   "id": "512c98aa",
   "metadata": {},
   "outputs": [],
   "source": [
    "# Define a variable called my_integer and assign a value 25 to it\n",
    "\n",
    "my_integer = 25"
   ]
  },
  {
   "cell_type": "code",
   "execution_count": 11,
   "id": "28fbeb8c",
   "metadata": {},
   "outputs": [
    {
     "name": "stdout",
     "output_type": "stream",
     "text": [
      "Your age is  23\n"
     ]
    }
   ],
   "source": [
    "# Define a variable called age and assign the value 23 and print the result using print()\n",
    "\n",
    "age = 23\n",
    "print(\"Your age is \",age)\n"
   ]
  },
  {
   "cell_type": "code",
   "execution_count": 12,
   "id": "fb5e88a7",
   "metadata": {},
   "outputs": [
    {
     "data": {
      "text/plain": [
       "int"
      ]
     },
     "execution_count": 12,
     "metadata": {},
     "output_type": "execute_result"
    }
   ],
   "source": [
    "# now print the type of the age variable using the type() function\n",
    "\n",
    "type(age)"
   ]
  },
  {
   "cell_type": "code",
   "execution_count": 16,
   "id": "e1a3c616",
   "metadata": {},
   "outputs": [
    {
     "name": "stdout",
     "output_type": "stream",
     "text": [
      "24.6\n"
     ]
    },
    {
     "data": {
      "text/plain": [
       "float"
      ]
     },
     "execution_count": 16,
     "metadata": {},
     "output_type": "execute_result"
    }
   ],
   "source": [
    "# now assign new float variable [float means no with decimal value] to the age \n",
    "\n",
    "age=24.6\n",
    "print(age)\n",
    "type(age)\n",
    "\n"
   ]
  },
  {
   "cell_type": "code",
   "execution_count": 15,
   "id": "51bc3c92-47e7-40d8-aac7-9693726985e8",
   "metadata": {},
   "outputs": [
    {
     "name": "stdout",
     "output_type": "stream",
     "text": [
      "2025\n"
     ]
    },
    {
     "data": {
      "text/plain": [
       "int"
      ]
     },
     "execution_count": 15,
     "metadata": {},
     "output_type": "execute_result"
    }
   ],
   "source": [
    "print(Currentyear)\n",
    "# then print its type()\n",
    "type(Currentyear)"
   ]
  },
  {
   "cell_type": "code",
   "execution_count": 20,
   "id": "2e68e8ae",
   "metadata": {},
   "outputs": [
    {
     "name": "stdout",
     "output_type": "stream",
     "text": [
      "26\n",
      "30\n",
      "35\n"
     ]
    }
   ],
   "source": [
    "# Create 3 different variable and store any values you like\n",
    "\n",
    "# make sure to use camelCase, Pascal and Snake_case\n",
    "\n",
    "#camelCase\n",
    "myAge=26\n",
    "print(myAge)\n",
    "\n",
    "#PascalCase\n",
    "MyAge=30\n",
    "print(MyAge)\n",
    "\n",
    "#Snake_case\n",
    "my_age=35\n",
    "print(my_age)\n"
   ]
  },
  {
   "cell_type": "code",
   "execution_count": 9,
   "id": "ec9a89c7",
   "metadata": {},
   "outputs": [],
   "source": [
    "# Write in markdown about three takeaway from your python and datascience class\n"
   ]
  },
  {
   "cell_type": "markdown",
   "id": "6b2aa1db-c579-4356-a117-b6c2c3b72b4c",
   "metadata": {},
   "source": [
    "key takeaways from python and datascience class are\n",
    "1. Python is beginner-friendly programming language.\n",
    "2. we can turn raw data into meaningful charts and graphs.\n",
    "3. Learning how to filter data, handel messing values and performing group operation easy."
   ]
  },
  {
   "cell_type": "code",
   "execution_count": null,
   "id": "318f7987-f3e8-416e-98db-68b45b4dff15",
   "metadata": {},
   "outputs": [],
   "source": []
  }
 ],
 "metadata": {
  "kernelspec": {
   "display_name": "Python 3 (ipykernel)",
   "language": "python",
   "name": "python3"
  },
  "language_info": {
   "codemirror_mode": {
    "name": "ipython",
    "version": 3
   },
   "file_extension": ".py",
   "mimetype": "text/x-python",
   "name": "python",
   "nbconvert_exporter": "python",
   "pygments_lexer": "ipython3",
   "version": "3.12.7"
  }
 },
 "nbformat": 4,
 "nbformat_minor": 5
}
