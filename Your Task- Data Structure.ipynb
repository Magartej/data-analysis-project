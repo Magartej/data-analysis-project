{
 "cells": [
  {
   "cell_type": "markdown",
   "id": "7c6627e5",
   "metadata": {},
   "source": [
    "## Data Structure Task\n",
    "![](https://devopedia.org/images/article/41/8174.1595680354.png)\n",
    "\n",
    "\n",
    "\n"
   ]
  },
  {
   "cell_type": "markdown",
   "id": "21cf4040",
   "metadata": {},
   "source": [
    "# List"
   ]
  },
  {
   "cell_type": "code",
   "execution_count": 5,
   "id": "80157d46",
   "metadata": {},
   "outputs": [
    {
     "name": "stdout",
     "output_type": "stream",
     "text": [
      "['apple', 'banana', 'mango']\n",
      "second fruit : banana\n",
      "update list:  ['apple', 'banana', 'orange']\n",
      "final list after remove :  ['banana', 'orange']\n"
     ]
    }
   ],
   "source": [
    "# Creation: Create a list of your favorite fruits\n",
    "\n",
    "favourite_fruits = [\"apple\",\"banana\",\"mango\"]\n",
    "print(favourite_fruits)\n",
    "\n",
    "# Access: Access the second item in the list.\n",
    "\n",
    "print(\"second fruit :\", favourite_fruits[1])\n",
    "\n",
    "# Update: Change the third item to \"orange\".\n",
    "\n",
    "favourite_fruits[2] = \"orange\"\n",
    "print(\"update list: \", favourite_fruits)\n",
    "\n",
    "#Remove: Remove the first item from the list.\n",
    "\n",
    "del favourite_fruits[0]\n",
    "print(\"final list after remove : \", favourite_fruits)\n"
   ]
  },
  {
   "cell_type": "markdown",
   "id": "060b720b",
   "metadata": {},
   "source": [
    "# Tuples"
   ]
  },
  {
   "cell_type": "code",
   "execution_count": 6,
   "id": "2b40264b",
   "metadata": {},
   "outputs": [
    {
     "name": "stdout",
     "output_type": "stream",
     "text": [
      "('red', 'blue', 'green')\n",
      "colors  green\n"
     ]
    }
   ],
   "source": [
    "# Creation: Create a tuple with three different colors.\n",
    "\n",
    "colors = (\"red\", \"blue\", \"green\")\n",
    "print(colors)\n",
    "\n",
    "# Access: Access the third item in the tuple.\n",
    "\n",
    "print(\"colors \", colors[2])\n",
    "\n",
    "# Update: Try to change the second item to \"yellow\" and observe what happens. Expect something error\n",
    "\n",
    "# colors[1] = \"yellow'\n",
    "# Here error will occur as tulpes cannot be changed after creation\n",
    "\n",
    "# Remove: Give reason why you can or can't\n",
    "\n",
    "#del clolrs[2]\n",
    "# Here in tuples once a tuple is created it cannot be removed\n"
   ]
  },
  {
   "cell_type": "markdown",
   "id": "d9af3178",
   "metadata": {},
   "source": [
    "# SET"
   ]
  },
  {
   "cell_type": "code",
   "execution_count": 9,
   "id": "c38b08db",
   "metadata": {},
   "outputs": [
    {
     "name": "stdout",
     "output_type": "stream",
     "text": [
      "{'Jatra', 'Kabaddi', 'Pashupati Prasad', 'Loot'}\n",
      "There is no such movie\n",
      "{'Jatra', 'Miracle in Cell', 'Pashupati Prasad', 'Loot', 'Kabaddi'}\n",
      "{'Jatra', 'Pashupati Prasad', 'Loot', 'Kabaddi'}\n"
     ]
    }
   ],
   "source": [
    "# Creation: Create a set of your favorite movies\n",
    "\n",
    "favorite_movies = {\"Kabaddi\", \"Loot\", \"Pashupati Prasad\", \"Jatra\"}\n",
    "print(favorite_movies)\n",
    "\n",
    "# Access: Check if your \"Toy Car\" is in the set.\n",
    "\n",
    "if \"Toy Car\" in favorite_movies:\n",
    "    print(\"Toy Car is in the set\")\n",
    "else:\n",
    "    print(\"There is no such movie\")\n",
    "\n",
    "\n",
    "# Update: Add \"Miracle in Cell\" to the set.\n",
    "\n",
    "favorite_movies.add(\"Miracle in Cell\")\n",
    "print(favorite_movies)\n",
    "\n",
    "# Remove: Remove your least favorite movies.\n",
    "\n",
    "favorite_movies.remove(\"Miracle in Cell\")\n",
    "print(favorite_movies)\n",
    "\n"
   ]
  },
  {
   "cell_type": "markdown",
   "id": "77344d89",
   "metadata": {},
   "source": [
    "# Dictionary"
   ]
  },
  {
   "cell_type": "code",
   "execution_count": 10,
   "id": "02ece1f6",
   "metadata": {},
   "outputs": [
    {
     "name": "stdout",
     "output_type": "stream",
     "text": [
      "{'name': 'Sita', 'age': '25', 'city': 'Kathmandu'}\n",
      "Age : 25\n",
      "{'name': 'Sita', 'age': '25', 'city': 'Pokhara'}\n",
      "{'name': 'Sita', 'city': 'Pokhara'}\n"
     ]
    }
   ],
   "source": [
    "# Creation: Create a dictionary with three key-value pairs representing a person's details (e.g., name, age, city).\n",
    "\n",
    "person = { \"name\": \"Sita\", \"age\": \"25\", \"city\": \"Kathmandu\" }\n",
    "print(person)\n",
    "\n",
    "# Access: Access the person's age.\n",
    "\n",
    "print(\"Age :\", person[\"age\"])\n",
    "\n",
    "# Update: Update the person's city to \"Los Angeles\".\n",
    "\n",
    "person[\"city\"] = \"Pokhara\"\n",
    "print(person)\n",
    "\n",
    "# Remove: Remove the age key-value pair from the dictionary.\n",
    "\n",
    "del person[\"age\"]\n",
    "print(person)\n"
   ]
  },
  {
   "cell_type": "markdown",
   "id": "1147fb20",
   "metadata": {},
   "source": [
    "# List Compression"
   ]
  },
  {
   "cell_type": "code",
   "execution_count": 16,
   "id": "2843c7d3",
   "metadata": {},
   "outputs": [
    {
     "name": "stdout",
     "output_type": "stream",
     "text": [
      "[1, 4, 9, 16, 25, 36, 49, 64, 81, 100, 121, 144, 169, 196]\n",
      "[1, 9, 25, 49, 81, 121, 169]\n"
     ]
    }
   ],
   "source": [
    "# Create a list of squares of numbers from 1 to 10.\n",
    "\n",
    "squares = [x**2 for x in range(1, 15)]\n",
    "print (squares)\n",
    "\n",
    "squares = [x**2 for x in range(1, 15,2)]\n",
    "print (squares)\n"
   ]
  },
  {
   "cell_type": "code",
   "execution_count": 17,
   "id": "0d9983ab",
   "metadata": {},
   "outputs": [
    {
     "name": "stdout",
     "output_type": "stream",
     "text": [
      "['HELLO', 'WORLD', 'PYTHON', 'LIST', 'COMPREHENSION']\n"
     ]
    }
   ],
   "source": [
    "# Explain in the markdown what is happening in this code\n",
    "\n",
    "words = [\"hello\", \"world\", \"python\", \"list\", \"comprehension\"]\n",
    "uppercase_words = [word.upper() for word in words]\n",
    "print(uppercase_words)"
   ]
  },
  {
   "cell_type": "markdown",
   "id": "4770552b-cb7e-44e1-9011-9c3c5dba0703",
   "metadata": {},
   "source": [
    "Here the (words) is assigned in a list of strings and the line (uppercase_word) creates a new list by performing repeatedly in the (words) where the (.upper()) method is called which converts the string to uppercase latters. Which can be seen later after applying print statement."
   ]
  },
  {
   "cell_type": "code",
   "execution_count": null,
   "id": "0b1623bf-9b07-41c7-9cdf-037be193beb9",
   "metadata": {},
   "outputs": [],
   "source": []
  }
 ],
 "metadata": {
  "kernelspec": {
   "display_name": "Python 3 (ipykernel)",
   "language": "python",
   "name": "python3"
  },
  "language_info": {
   "codemirror_mode": {
    "name": "ipython",
    "version": 3
   },
   "file_extension": ".py",
   "mimetype": "text/x-python",
   "name": "python",
   "nbconvert_exporter": "python",
   "pygments_lexer": "ipython3",
   "version": "3.12.7"
  }
 },
 "nbformat": 4,
 "nbformat_minor": 5
}
