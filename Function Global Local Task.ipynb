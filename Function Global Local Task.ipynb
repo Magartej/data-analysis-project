{
 "cells": [
  {
   "cell_type": "markdown",
   "id": "d83568fc",
   "metadata": {},
   "source": [
    "![img](https://global-uploads.webflow.com/5f81ff43a0e73644b42c3063/63beda9fa32dae859f01b203_image%20-%202023-01-11T193923.859.png)"
   ]
  },
  {
   "cell_type": "markdown",
   "id": "2cf8928f",
   "metadata": {},
   "source": [
    "# Study this code and answer following"
   ]
  },
  {
   "cell_type": "code",
   "execution_count": 1,
   "id": "82d22229",
   "metadata": {},
   "outputs": [
    {
     "name": "stdout",
     "output_type": "stream",
     "text": [
      "Before calling the function, count = 10\n",
      "Inside the function, count = 6\n",
      "After calling the function, count = 10\n"
     ]
    }
   ],
   "source": [
    "# Global variable\n",
    "count = 10\n",
    "\n",
    "def increment():\n",
    "    # Local variable\n",
    "    count = 5\n",
    "    count += 1\n",
    "    print(\"Inside the function, count =\", count)\n",
    "\n",
    "print(\"Before calling the function, count =\", count)\n",
    "increment()\n",
    "print(\"After calling the function, count =\", count)\n"
   ]
  },
  {
   "cell_type": "markdown",
   "id": "eb5888ba",
   "metadata": {},
   "source": [
    "# Q1. What will be the output of the code before calling the increment function?\n"
   ]
  },
  {
   "cell_type": "code",
   "execution_count": 2,
   "id": "54e820c2",
   "metadata": {},
   "outputs": [],
   "source": [
    "# Q1 Answer here\n",
    "\n",
    "# Output before calling the increment function will be 10\n",
    "\n"
   ]
  },
  {
   "cell_type": "markdown",
   "id": "54df224a",
   "metadata": {},
   "source": [
    "# Q2: What will be the output of the code inside the increment function?"
   ]
  },
  {
   "cell_type": "code",
   "execution_count": 6,
   "id": "0e596bc8",
   "metadata": {},
   "outputs": [
    {
     "data": {
      "text/plain": [
       "'\\nHere the initial value of the count is 10 and when the function def is called then the \\nvalue of the clunt becomes 5 and after next operation the value will be 6 as \\n(count(5)+1 = 6) so the output of the code inside the function will be 6.\\n'"
      ]
     },
     "execution_count": 6,
     "metadata": {},
     "output_type": "execute_result"
    }
   ],
   "source": [
    "# Q2 Answer here\n",
    "\n",
    "'''\n",
    "Here the initial value of the count is 10 and when the function def is called then the \n",
    "value of the clunt becomes 5 and after next operation the value will be 6 as \n",
    "(count(5)+1 = 6) so the output of the code inside the function will be 6.\n",
    "'''"
   ]
  },
  {
   "cell_type": "markdown",
   "id": "8ab13bad",
   "metadata": {},
   "source": [
    "# Q3: What will be the output of the code after calling the increment function?"
   ]
  },
  {
   "cell_type": "code",
   "execution_count": 7,
   "id": "adb4a01a",
   "metadata": {},
   "outputs": [],
   "source": [
    "# Q3 Answer here\n",
    "\n",
    "#The output of the code after calling the increment function will be 10"
   ]
  },
  {
   "cell_type": "markdown",
   "id": "b9479b91",
   "metadata": {},
   "source": [
    "# Q4: Explain why the value of count does not change outside the function after calling increment?"
   ]
  },
  {
   "cell_type": "code",
   "execution_count": 8,
   "id": "e16c11b7",
   "metadata": {},
   "outputs": [
    {
     "data": {
      "text/plain": [
       "'\\nThe value of count does not change outside the function after calling it because the value\\nof the function is valid untill we are operating inside the function and if we return back\\nto the main then instead of function value the main of global value replace with it.\\n'"
      ]
     },
     "execution_count": 8,
     "metadata": {},
     "output_type": "execute_result"
    }
   ],
   "source": [
    "# Q4 Answer here\n",
    "\n",
    "'''\n",
    "The value of count does not change outside the function after calling it because the value\n",
    "of the function is valid untill we are operating inside the function and if we return back\n",
    "to the main then instead of function value the main of global value replace with it.\n",
    "'''"
   ]
  },
  {
   "cell_type": "markdown",
   "id": "68ec0e37",
   "metadata": {},
   "source": [
    "# Q5: How would you modify the increment function to change the value of the global count variable?"
   ]
  },
  {
   "cell_type": "code",
   "execution_count": 9,
   "id": "4ce28dd1",
   "metadata": {},
   "outputs": [],
   "source": [
    "# Q5 Answer here\n",
    "# Hint-- use global keyword"
   ]
  },
  {
   "cell_type": "code",
   "execution_count": 9,
   "id": "28235d67",
   "metadata": {},
   "outputs": [
    {
     "name": "stdout",
     "output_type": "stream",
     "text": [
      "Before calling the function, count = 10\n",
      "Inside the function, count = 11\n",
      "After calling the function, count = 11\n"
     ]
    }
   ],
   "source": [
    "# Global variable\n",
    "count = 10\n",
    "\n",
    "def increment():\n",
    "    # using global keyword\n",
    "    global count\n",
    "    count += 1\n",
    "    print(\"Inside the function, count =\", count)\n",
    "\n",
    "print(\"Before calling the function, count =\", count)\n",
    "increment()\n",
    "print(\"After calling the function, count =\", count)"
   ]
  },
  {
   "cell_type": "code",
   "execution_count": null,
   "id": "4fc7b9c1-bcb7-4900-a237-6d4af4a28f04",
   "metadata": {},
   "outputs": [],
   "source": []
  }
 ],
 "metadata": {
  "kernelspec": {
   "display_name": "Python 3 (ipykernel)",
   "language": "python",
   "name": "python3"
  },
  "language_info": {
   "codemirror_mode": {
    "name": "ipython",
    "version": 3
   },
   "file_extension": ".py",
   "mimetype": "text/x-python",
   "name": "python",
   "nbconvert_exporter": "python",
   "pygments_lexer": "ipython3",
   "version": "3.12.7"
  }
 },
 "nbformat": 4,
 "nbformat_minor": 5
}
