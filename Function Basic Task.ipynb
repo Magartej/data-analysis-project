{
 "cells": [
  {
   "cell_type": "markdown",
   "id": "d83568fc",
   "metadata": {},
   "source": [
    "![img](https://ytu-cvlab.github.io/mce-51069/images/copied_from_nb/images/function.jpeg)"
   ]
  },
  {
   "cell_type": "markdown",
   "id": "2cf8928f",
   "metadata": {},
   "source": [
    "# What is the Syntac of user-defined function?"
   ]
  },
  {
   "cell_type": "code",
   "execution_count": 1,
   "id": "82d22229",
   "metadata": {},
   "outputs": [
    {
     "data": {
      "text/plain": [
       "' \\ndef function_name(paramaters):\\n    return value\\n'"
      ]
     },
     "execution_count": 1,
     "metadata": {},
     "output_type": "execute_result"
    }
   ],
   "source": [
    "# Write Syntac below\n",
    "\n",
    "''' \n",
    "def function_name(paramaters):\n",
    "    return value\n",
    "'''\n",
    "\n",
    "\n"
   ]
  },
  {
   "cell_type": "markdown",
   "id": "eb5888ba",
   "metadata": {},
   "source": [
    "# Task 1: Define a Function"
   ]
  },
  {
   "cell_type": "code",
   "execution_count": null,
   "id": "54e820c2",
   "metadata": {},
   "outputs": [],
   "source": [
    "# Define a function called `greet` that takes a single parameter `name`.\n",
    "# The purpose of this function is to print a greeting message that says \"Hello, [name]!\".\n",
    "# For example, calling greet(\"Alice\") should output \"Hello, Alice!\"."
   ]
  },
  {
   "cell_type": "code",
   "execution_count": 2,
   "id": "f7a0d8a7",
   "metadata": {},
   "outputs": [
    {
     "name": "stdout",
     "output_type": "stream",
     "text": [
      "Hello, Alice\n"
     ]
    }
   ],
   "source": [
    "# Write your code here\n",
    "\n",
    "def greet(name):\n",
    "    print(\"Hello, \"+name)\n",
    "\n",
    "greet(\"Alice\")        \n",
    "\n",
    "\n",
    "\n",
    "\n",
    "\n"
   ]
  },
  {
   "cell_type": "markdown",
   "id": "54df224a",
   "metadata": {},
   "source": [
    "# Task 2: Call the Function"
   ]
  },
  {
   "cell_type": "code",
   "execution_count": 1,
   "id": "0e596bc8",
   "metadata": {},
   "outputs": [],
   "source": [
    "# After defining the function, call it with different names to see the output.\n",
    "# You should call the function at least three times with different names"
   ]
  },
  {
   "cell_type": "code",
   "execution_count": 4,
   "id": "359b3353",
   "metadata": {},
   "outputs": [
    {
     "name": "stdout",
     "output_type": "stream",
     "text": [
      "hello, ram\n",
      "hello, sita\n",
      "hello, hari\n"
     ]
    }
   ],
   "source": [
    "# Write your code here\n",
    "\n",
    "def greet(name):\n",
    "    print(\"hello, \"+name)\n",
    "\n",
    "greet(\"ram\")    \n",
    "greet(\"sita\")\n",
    "greet(\"hari\")\n",
    "\n",
    "\n",
    "\n",
    "\n"
   ]
  },
  {
   "cell_type": "markdown",
   "id": "8ab13bad",
   "metadata": {},
   "source": [
    "# Task 3: Experiment with Different Inputs"
   ]
  },
  {
   "cell_type": "code",
   "execution_count": 3,
   "id": "adb4a01a",
   "metadata": {},
   "outputs": [],
   "source": [
    "# Try calling the `greet` function with different types of inputs: \n",
    "# and observe and note down what happens with each type of input.\n",
    "\n",
    "\n",
    "# - A string with a different name (e.g., greet(\"Dave\"))\n",
    "\n",
    "\n",
    "\n",
    "# - An empty string (e.g., greet(\"\"))\n",
    "\n",
    "\n",
    "\n",
    "# - A string with special characters (e.g., greet(\"!@#\"))\n",
    "\n",
    "\n",
    "# - A non-string input (e.g., greet(123))\n",
    "\n",
    "\n"
   ]
  },
  {
   "cell_type": "markdown",
   "id": "b9479b91",
   "metadata": {},
   "source": [
    "# Write down your observations on how the `greet` function behaves with different inputs.\n",
    "\n",
    "# and write in paragraph about what you undestood about function"
   ]
  },
  {
   "cell_type": "code",
   "execution_count": 5,
   "id": "e16c11b7",
   "metadata": {},
   "outputs": [
    {
     "name": "stdout",
     "output_type": "stream",
     "text": [
      "Hello, Dave\n",
      "Hello, \n",
      "Hello, !@#\n"
     ]
    },
    {
     "ename": "TypeError",
     "evalue": "can only concatenate str (not \"int\") to str",
     "output_type": "error",
     "traceback": [
      "\u001b[1;31m---------------------------------------------------------------------------\u001b[0m",
      "\u001b[1;31mTypeError\u001b[0m                                 Traceback (most recent call last)",
      "Cell \u001b[1;32mIn[5], line 6\u001b[0m\n\u001b[0;32m      4\u001b[0m greet(\u001b[38;5;124m\"\u001b[39m\u001b[38;5;124m\"\u001b[39m)\n\u001b[0;32m      5\u001b[0m greet(\u001b[38;5;124m\"\u001b[39m\u001b[38;5;124m!@#\u001b[39m\u001b[38;5;124m\"\u001b[39m)\n\u001b[1;32m----> 6\u001b[0m greet(\u001b[38;5;241m123\u001b[39m)\n",
      "Cell \u001b[1;32mIn[5], line 2\u001b[0m, in \u001b[0;36mgreet\u001b[1;34m(name)\u001b[0m\n\u001b[0;32m      1\u001b[0m \u001b[38;5;28;01mdef\u001b[39;00m \u001b[38;5;21mgreet\u001b[39m(name):\n\u001b[1;32m----> 2\u001b[0m     \u001b[38;5;28mprint\u001b[39m(\u001b[38;5;124m\"\u001b[39m\u001b[38;5;124mHello, \u001b[39m\u001b[38;5;124m\"\u001b[39m \u001b[38;5;241m+\u001b[39mname)\n",
      "\u001b[1;31mTypeError\u001b[0m: can only concatenate str (not \"int\") to str"
     ]
    }
   ],
   "source": [
    "def greet(name):\n",
    "    print(\"Hello, \" +name)\n",
    "greet(\"Dave\")    \n",
    "greet(\"\")\n",
    "greet(\"!@#\")\n",
    "greet(123)"
   ]
  },
  {
   "cell_type": "code",
   "execution_count": 6,
   "id": "619e488c-eeb3-4cea-9a96-059a1ccdb5d7",
   "metadata": {},
   "outputs": [
    {
     "data": {
      "text/plain": [
       "'\\nhere the greet function works perfectly when it is passed with the the string and the \\noutput is generated for three command which are \"dave\", \"\", \"!@#\" and for the (123) \\nthere was error \\nTypeError: can only concatenate str (not \"int\") to str\\n\\nFunction is a block of code that perform a specific task. It is defined using specific \\nkeyword following by function name and parentheses which includes parameters. It can be \\ncalled multiple times with different arguments and the parameters passed to function  \\ncan affect the behaviout or output of the function\\n'"
      ]
     },
     "execution_count": 6,
     "metadata": {},
     "output_type": "execute_result"
    }
   ],
   "source": [
    "'''\n",
    "here the greet function works perfectly when it is passed with the the string and the \n",
    "output is generated for three command which are \"dave\", \"\", \"!@#\" and for the (123) \n",
    "there was error \n",
    "TypeError: can only concatenate str (not \"int\") to str\n",
    "\n",
    "Function is a block of code that perform a specific task. It is defined using specific \n",
    "keyword following by function name and parentheses which includes parameters. It can be \n",
    "called multiple times with different arguments and the parameters passed to function  \n",
    "can affect the behaviout or output of the function\n",
    "'''"
   ]
  },
  {
   "cell_type": "code",
   "execution_count": null,
   "id": "93700a10-7a61-4860-86e0-65a2d2c6fe45",
   "metadata": {},
   "outputs": [],
   "source": []
  }
 ],
 "metadata": {
  "kernelspec": {
   "display_name": "Python 3 (ipykernel)",
   "language": "python",
   "name": "python3"
  },
  "language_info": {
   "codemirror_mode": {
    "name": "ipython",
    "version": 3
   },
   "file_extension": ".py",
   "mimetype": "text/x-python",
   "name": "python",
   "nbconvert_exporter": "python",
   "pygments_lexer": "ipython3",
   "version": "3.12.7"
  }
 },
 "nbformat": 4,
 "nbformat_minor": 5
}
