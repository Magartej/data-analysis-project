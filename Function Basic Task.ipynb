{
 "cells": [
  {
   "cell_type": "markdown",
   "id": "d83568fc",
   "metadata": {},
   "source": [
    "![img](https://ytu-cvlab.github.io/mce-51069/images/copied_from_nb/images/function.jpeg)"
   ]
  },
  {
   "cell_type": "markdown",
   "id": "2cf8928f",
   "metadata": {},
   "source": [
    "# What is the Syntac of user-defined function?"
   ]
  },
  {
   "cell_type": "code",
   "execution_count": 1,
   "id": "82d22229",
   "metadata": {},
   "outputs": [
    {
     "data": {
      "text/plain": [
       "' \\ndef function_name(paramaters):\\n    return value\\n'"
      ]
     },
     "execution_count": 1,
     "metadata": {},
     "output_type": "execute_result"
    }
   ],
   "source": [
    "# Write Syntac below\n",
    "\n",
    "''' \n",
    "def function_name(paramaters):\n",
    "    return value\n",
    "'''\n",
    "\n",
    "\n"
   ]
  },
  {
   "cell_type": "markdown",
   "id": "eb5888ba",
   "metadata": {},
   "source": [
    "# Task 1: Define a Function"
   ]
  },
  {
   "cell_type": "code",
   "execution_count": null,
   "id": "54e820c2",
   "metadata": {},
   "outputs": [],
   "source": [
    "# Define a function called `greet` that takes a single parameter `name`.\n",
    "# The purpose of this function is to print a greeting message that says \"Hello, [name]!\".\n",
    "# For example, calling greet(\"Alice\") should output \"Hello, Alice!\"."
   ]
  },
  {
   "cell_type": "code",
   "execution_count": 2,
   "id": "f7a0d8a7",
   "metadata": {},
   "outputs": [
    {
     "name": "stdout",
     "output_type": "stream",
     "text": [
      "Hello, Alice\n"
     ]
    }
   ],
   "source": [
    "# Write your code here\n",
    "\n",
    "def greet(name):\n",
    "    print(\"Hello, \"+name)\n",
    "\n",
    "greet(\"Alice\")        \n",
    "\n",
    "\n",
    "\n",
    "\n",
    "\n"
   ]
  },
  {
   "cell_type": "markdown",
   "id": "54df224a",
   "metadata": {},
   "source": [
    "# Task 2: Call the Function"
   ]
  },
  {
   "cell_type": "code",
   "execution_count": 1,
   "id": "0e596bc8",
   "metadata": {},
   "outputs": [],
   "source": [
    "# After defining the function, call it with different names to see the output.\n",
    "# You should call the function at least three times with different names"
   ]
  },
  {
   "cell_type": "code",
   "execution_count": 4,
   "id": "359b3353",
   "metadata": {},
   "outputs": [
    {
     "name": "stdout",
     "output_type": "stream",
     "text": [
      "hello, ram\n",
      "hello, sita\n",
      "hello, hari\n"
     ]
    }
   ],
   "source": [
    "# Write your code here\n",
    "\n",
    "def greet(name):\n",
    "    print(\"hello, \"+name)\n",
    "\n",
    "greet(\"ram\")    \n",
    "greet(\"sita\")\n",
    "greet(\"hari\")\n",
    "\n",
    "\n",
    "\n",
    "\n"
   ]
  },
  {
   "cell_type": "markdown",
   "id": "8ab13bad",
   "metadata": {},
   "source": [
    "# Task 3: Experiment with Different Inputs"
   ]
  },
  {
   "cell_type": "code",
   "execution_count": 3,
   "id": "adb4a01a",
   "metadata": {},
   "outputs": [
    {
     "name": "stdout",
     "output_type": "stream",
     "text": [
      "Hello, Dave\n",
      "Hello, \n",
      "Hello, !@#\n"
     ]
    }
   ],
   "source": [
    "# Try calling the `greet` function with different types of inputs: \n",
    "# and observe and note down what happens with each type of input.\n",
    "\n",
    "def greet(name):\n",
    "    print(\"Hello, \" +name)\n",
    "\n",
    "# - A string with a different name (e.g., greet(\"Dave\"))\n",
    "\n",
    "greet(\"Dave\")\n",
    "\n",
    "# - An empty string (e.g., greet(\"\"))\n",
    "\n",
    "greet(\"\")\n",
    "\n",
    "\n",
    "# - A string with special characters (e.g., greet(\"!@#\"))\n",
    "\n",
    "greet(\"!@#\")\n",
    "\n",
    "# - A non-string input (e.g., greet(123))\n",
    "\n",
    "# greet(123)\n"
   ]
  },
  {
   "cell_type": "markdown",
   "id": "b9479b91",
   "metadata": {},
   "source": [
    "# Write down your observations on how the `greet` function behaves with different inputs.\n",
    "\n",
    "# and write in paragraph about what you undestood about function"
   ]
  },
  {
   "cell_type": "code",
   "execution_count": 4,
   "id": "e16c11b7",
   "metadata": {},
   "outputs": [
    {
     "data": {
      "text/plain": [
       "'\\nWhen greet(\"Dave\") is called the function executes perfectly as there is string \"Dave\".\\nWhen greet(\"\") is called the function executes without error since the input is an empty but in string.\\nWhen greet(\"!@#\") is called the function still executes without error as there is special characters and the function handles them like string.\\nBut when greet(123) is called the function gives error as it is integer and not allowed.\\n\\n\\n'"
      ]
     },
     "execution_count": 4,
     "metadata": {},
     "output_type": "execute_result"
    }
   ],
   "source": [
    "'''\n",
    "When greet(\"Dave\") is called the function executes perfectly as there is string \"Dave\".\n",
    "When greet(\"\") is called the function executes without error since the input is an empty but in string.\n",
    "When greet(\"!@#\") is called the function still executes without error as there is special characters and the function handles them like string.\n",
    "But when greet(123) is called the function gives error as it is integer and not allowed.\n",
    "\n",
    "\n",
    "'''"
   ]
  },
  {
   "cell_type": "code",
   "execution_count": null,
   "id": "93700a10-7a61-4860-86e0-65a2d2c6fe45",
   "metadata": {},
   "outputs": [],
   "source": []
  }
 ],
 "metadata": {
  "kernelspec": {
   "display_name": "Python 3 (ipykernel)",
   "language": "python",
   "name": "python3"
  },
  "language_info": {
   "codemirror_mode": {
    "name": "ipython",
    "version": 3
   },
   "file_extension": ".py",
   "mimetype": "text/x-python",
   "name": "python",
   "nbconvert_exporter": "python",
   "pygments_lexer": "ipython3",
   "version": "3.12.7"
  }
 },
 "nbformat": 4,
 "nbformat_minor": 5
}
